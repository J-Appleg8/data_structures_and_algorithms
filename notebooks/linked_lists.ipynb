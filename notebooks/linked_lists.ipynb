{
 "cells": [
  {
   "attachments": {},
   "cell_type": "markdown",
   "metadata": {},
   "source": [
    "## <span style=\"color:turquoise\">Data Structures: Linked Lists</span>\n",
    "\n",
    "---"
   ]
  },
  {
   "attachments": {},
   "cell_type": "markdown",
   "metadata": {},
   "source": [
    "%%html\n",
    "<style>\n",
    "  thead,\n",
    "  th {\n",
    "    border-bottom: 1.5pt solid;\n",
    "  }\n",
    "  th {\n",
    "    font-weight: 600;\n",
    "  }\n",
    "</style>\n",
    "\n",
    "### <span style=\"color:mediumspringgreen\">Overview</span>\n",
    "\n",
    "A linked list contains a set of nodes (think two lego blocks stacked on top of eachother).\n",
    "- The first node is called the head, and the last node is called the tail.  \n",
    "\n",
    "\n",
    "These nodes have two elements:\n",
    "- The value of the data you want to store\n",
    "- A pointer to the next node in line\n",
    "\n",
    "\n",
    "Linked lists are what we call \"null terminated\" which signifies that its the end of the list.\n",
    "- Each node will point to another node and another node until there is a node that points to null\n",
    "\n",
    "<br>  \n",
    "\n",
    "Example of linked list in memory:\n",
    "```js\n",
    "const basket = ['apples', 'grapes', 'pears']\n",
    "\n",
    "apples\n",
    "8947  -->   grapes\n",
    "            8742  -->   pears\n",
    "                        372  --> null\n",
    "```\n",
    "\n",
    "Linked List Functions:\n",
    "\n",
    "| <span style=\"color:#FFB6C1\">Function</span> | <span style=\"color:#FFB6C1\">Big O</span> | <span style=\"color:#FFB6C1\">Description</span> | \n",
    "| --- | --- | --- |\n",
    "| prepend | O(1) | Add to beginning of list |\n",
    "| append | O(1) | Add to end of list |\n",
    "| lookup | O(n) | Traverse list to find element |\n",
    "| insert | O(n) | Find index then insert element |\n",
    "| delete | O(n) | Have to find the element first |\n"
   ]
  },
  {
   "attachments": {},
   "cell_type": "markdown",
   "metadata": {},
   "source": [
    "%%html\n",
    "<style>\n",
    "  thead,\n",
    "  th {\n",
    "    border-bottom: 1.5pt solid;\n",
    "  }\n",
    "  th {\n",
    "    font-weight: 600;\n",
    "  }\n",
    "</style>\n",
    "\n",
    "<br>\n",
    "\n",
    "### <span style=\"color:mediumspringgreen\">Why Linked Lists?</span>\n",
    "\n",
    "#### <span style=\"color:turquoise\">Main differences between arrays and linked lists:</span>\n",
    "\n",
    "| <span style=\"color:#FFB6C1\">Arrays</span> | <span style=\"color:#FFB6C1\">Linked Lists</span> |\n",
    "| --- | --- | \n",
    "| Elements are indexed in arrays so you are able to go to a specific position in the array | Linked lists have to be traversed starting from the head until you get to the item |\n",
    "| Arrays are ordered sequentially in memory | Linked lists are scattered around in memory, similar to hash tables |\n",
    "| Iterating over linked lists is slower than iterating through an array | Inserting in linked lists is faster than inserting in an array |\n",
    "\n",
    "The idea of traversal is the same to that of iteration with arrays, except we call it traversal because we dont actually know where the linked list ends\n",
    "- Have to use while loops with linked lists because we dont know how long the list will be\n",
    "\n",
    "\n",
    "#### <span style=\"color:turquoise\">Main differences between hash tables and linked lists:</span>\n",
    "\n",
    "Different from hash tables, there is a sort of order with each item in a linked list so you are able to have sorted data (unlike a hash table)\n",
    "\n",
    "\n"
   ]
  },
  {
   "attachments": {},
   "cell_type": "markdown",
   "metadata": {},
   "source": [
    "%%html\n",
    "<style>\n",
    "  thead,\n",
    "  th {\n",
    "    border-top: 1pt solid;\n",
    "    border-bottom: 1.5pt solid;\n",
    "    border-left: 1pt solid #273136;\n",
    "    border-right: 1pt solid #273136;\n",
    "  }\n",
    "  th {\n",
    "    color: #FFB6C1;\n",
    "    font-weight: 600;\n",
    "  }\n",
    "</style>\n",
    "\n",
    "<br>\n",
    "\n",
    "### <span style=\"color:mediumspringgreen\">What Is A Pointer?</span>\n",
    "\n",
    "A pointer is a reference to another place in memory (another object, another node etc.)"
   ]
  },
  {
   "cell_type": "code",
   "execution_count": 16,
   "metadata": {
    "vscode": {
     "languageId": "javascript"
    }
   },
   "outputs": [
    {
     "name": "stdout",
     "output_type": "stream",
     "text": [
      "1:  null\n",
      "2:  { a: 'booya' }\n",
      "2:  hello\n"
     ]
    }
   ],
   "source": [
    "%%script node\n",
    "\n",
    "// Both objects point to the same place in memory\n",
    "// created a pointer (reference to another object)\n",
    "let obj1 = { a: true }\n",
    "let obj2 = obj1\n",
    "\n",
    "obj1.a = 'booya'\n",
    "obj1 = null\n",
    "\n",
    "console.log('1: ', obj1)\n",
    "console.log('2: ', obj2)\n",
    "\n",
    "\n",
    "obj2 = 'hello'\n",
    "\n",
    "console.log('2: ', obj2)\n",
    "\n"
   ]
  },
  {
   "attachments": {},
   "cell_type": "markdown",
   "metadata": {},
   "source": [
    "### <span style=\"color:mediumspringgreen\">First Linked List</span>\n",
    "\n",
    "Creating this linked list in JavaScript: \n",
    "\n",
    "```js\n",
    "10-->5-->16\n",
    "```\n",
    "\n",
    "The point of the node is to say \"anything can be in this node, its going to be a container around this data\". Think of node as a bucket of data\n",
    "- In the example below, we can just put the data in an object\n",
    "\n",
    "We will need a value property of what the value of the node is + a next property that is a pointer to the next node\n"
   ]
  },
  {
   "cell_type": "code",
   "execution_count": 20,
   "metadata": {
    "vscode": {
     "languageId": "javascript"
    }
   },
   "outputs": [
    {
     "name": "stdout",
     "output_type": "stream",
     "text": [
      "LinkedList {\n",
      "  head: { value: 10, next: null },\n",
      "  tail: { value: 10, next: null },\n",
      "  length: 1\n",
      "}\n"
     ]
    }
   ],
   "source": [
    "%%script node\n",
    "\n",
    "// constructor is used to create the very first instance of the class\n",
    "class LinkedList {\n",
    "    constructor(value) {\n",
    "        this.head = {\n",
    "            value: value,\n",
    "            next: null\n",
    "        }\n",
    "        this.tail = this.head\n",
    "        this.length = 1\n",
    "    }\n",
    "    append(value) {\n",
    "    }\n",
    "}\n",
    "\n",
    "\n",
    "const myLinkedList = new LinkedList(10)\n",
    "\n",
    "console.log(myLinkedList)\n",
    "\n"
   ]
  }
 ],
 "metadata": {
  "kernelspec": {
   "display_name": "env",
   "language": "python",
   "name": "python3"
  },
  "language_info": {
   "codemirror_mode": {
    "name": "ipython",
    "version": 3
   },
   "file_extension": ".py",
   "mimetype": "text/x-python",
   "name": "python",
   "nbconvert_exporter": "python",
   "pygments_lexer": "ipython3",
   "version": "3.10.2"
  },
  "orig_nbformat": 4,
  "vscode": {
   "interpreter": {
    "hash": "9dc53da256d0d9f2dcfc763a255c263410097193e94718651a58241b75321426"
   }
  }
 },
 "nbformat": 4,
 "nbformat_minor": 2
}
