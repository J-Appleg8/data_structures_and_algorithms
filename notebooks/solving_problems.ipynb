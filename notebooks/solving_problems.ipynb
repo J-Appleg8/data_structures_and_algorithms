{
 "cells": [
  {
   "cell_type": "markdown",
   "metadata": {},
   "source": [
    "## <span style=\"color:turquoise\">How To Solve Coding Problems</span>\n",
    "\n",
    "---"
   ]
  },
  {
   "cell_type": "markdown",
   "metadata": {},
   "source": [
    "### <span style=\"color:mediumspringgreen\">Step By Step Through a Problem</span>\n",
    "\n",
    "1. When the interviewer says the question, write down the key points at the top (i.e. sorted array). Make sure you have all the details. Show how organized you are\n",
    "2. Make sure you double check: What are the inputs? What are the outputs?\n",
    "3. What is the most important value of the problem? Do you have time, space and memory etc.. What is the main goal?\n",
    "4. Don't be annoying and ask too many questions\n",
    "5. Start with the naive/brute force approach. First th9ing that comes into mind. It shows that you're able to think well and critically (you don't need to write this code, just speak about it)\n",
    "6. Tell them why this approach is not the best (i.e. O(n^2) or higher, not readable, etc..)\n",
    "7. Walk through your approach, comment things and see where you may be able to break things. Any repitition, bottlenecks like O(n^2), or unnecessary work? Did you use all the info the interviewer gave you? Bottleneck is part of the code with the biggest Big O. Focus on that\n",
    "8. Before you start coding, walk through your code and write down the steps you are going to follow\n",
    "9. Modularize your code from the very beginning. Break up your code into beautiful small pieces and add just comments if you need to.\n",
    "10. Start actually writing your code now. Keep in mind that the more you prepare and understand what you need to code, the better the whiteboard will go. So never start a whiteboard interview not being sure of how things are going to work out. That is a recipe for disaster.\n",
    "    1. Keep in mind: A Lot of interviews ask questions that you won't be able to fully answer on time. So think: What can I show in order to show that I can do this and I am better than other coders. Break things up in Functions (if you cant remember a method, just make up a function and you will at least have it there).\n",
    "    2. Write something, and start with the easy part.\n",
    "11. Think about error checks and how you can break this code. Never make assumptions about the input. Assume people are trying to break your code. How will you safeguard it? \n",
    "    1. Always check for false inputs that you don't want\n",
    "    2. Here is a trick: Comment in the code the checks that you want to do... write the function, then tell the interviewer that you would write tests now to make your function fail (but you won't need to actually write the tests)\n",
    "12. Don't use bad/confusing names like i and j. Write code that reads well.\n",
    "13. Test your code: Check for no params, 0, undefined, null, massive arrays, async code ets... Ask the interviewer if we can make assumptions about the code. \n",
    "14. Finally talk to the interviewer where you would improve the code. Does it work? Are there different approaches? Is it readable? What would you google to improve? \n",
    "    1. Possibly: Ask the interviewer what was the most interesting solution you have seen to this problem\n",
    "15. If your interviewer is happy with the solution, the interview usually ends here. It is also common that the interviewer asks you extension questions, such as how you would handle the problem if the whole input is too large to fit in memory, or if the input arrives as a stream. The answer is usually a divide and conquer approach - perform distributed processing of the data and only read certain chunks of the input from disk into memory, write the output back to disk and combine them later\n"
   ]
  },
  {
   "cell_type": "markdown",
   "metadata": {},
   "source": [
    "### <span style=\"color:mediumspringgreen\">Exercise: Interview Question</span>"
   ]
  },
  {
   "cell_type": "code",
   "execution_count": null,
   "metadata": {},
   "outputs": [],
   "source": [
    "# Given 2 arrays, create a function that let's a user know (true/false) whether these two arrays contain any common items\n",
    "\n",
    "# For example:\n",
    "# array1 = ['a', 'b', 'c', 'x']\n",
    "# array2 = ['z', 'y', 'i']\n",
    "# should return false\n",
    "\n",
    "# array1 = ['a', 'b', 'c', 'x']\n",
    "# array2 = ['z', 'y', 'x']\n",
    "# should return true\n",
    "\n"
   ]
  }
 ],
 "metadata": {
  "kernelspec": {
   "display_name": "Python 3.10.2 ('env': venv)",
   "language": "python",
   "name": "python3"
  },
  "language_info": {
   "name": "python",
   "version": "3.10.2"
  },
  "orig_nbformat": 4,
  "vscode": {
   "interpreter": {
    "hash": "9dc53da256d0d9f2dcfc763a255c263410097193e94718651a58241b75321426"
   }
  }
 },
 "nbformat": 4,
 "nbformat_minor": 2
}
