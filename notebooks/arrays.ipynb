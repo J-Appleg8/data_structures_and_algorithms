{
 "cells": [
  {
   "cell_type": "markdown",
   "metadata": {},
   "source": [
    "## <span style=\"color:turquoise\">Data Structures: Arrays</span>\n",
    "\n",
    "---"
   ]
  },
  {
   "attachments": {},
   "cell_type": "markdown",
   "metadata": {},
   "source": [
    "%%html\n",
    "<style>\n",
    "  thead,\n",
    "  th {\n",
    "    border-bottom: 1.5pt solid;\n",
    "  }\n",
    "  th {\n",
    "    font-weight: 600;\n",
    "  }\n",
    "</style>\n",
    "\n",
    "### <span style=\"color:mediumspringgreen\">Introduction</span>\n",
    "\n",
    "Arrays, or sometimes called lists, organize items sequentially (one after another in memory).\n",
    "\n",
    "\n",
    "| | | \n",
    "| --- | --- | \n",
    "| 0 | Juice |\n",
    "| 1 | Apple |\n",
    "| 2 | Cheese |\n",
    "| 3 | Kale |\n",
    "| 4 | Mango |\n",
    "| 5 | Grapes |\n",
    "\n",
    "<br>\n",
    "\n",
    "Because they are stored in contiguous memory, they also have the smallest footprint of any data structure. So if all you need is to store some data and iterate over it, arrays are the best choice. Especially if you know the indicies of the items you are storing\n",
    "\n",
    "\n",
    "| <span style=\"color:#FFB6C1\">Function</span> | <span style=\"color:#FFB6C1\">Big O</span> | \n",
    "| --- | --- | \n",
    "| lookup | O(1) | \n",
    "| push | O(1) | \n",
    "| insert | O(n) | \n",
    "| delete | O(n) | \n",
    "\n",
    "<br>\n",
    "\n",
    "Array native python methods:\n",
    "\n",
    "| <span style=\"color:#FFB6C1\">python method</span> | <span style=\"color:#FFB6C1\">description</span> | \n",
    "| --- | --- | \n",
    "| append()| Adds an element at the end of the list | \n",
    "| clear() | Removes all the elements from the list | \n",
    "| copy() | Returns a copy of the list | \n",
    "| count() | Returns the number of elements with the specified value | \n",
    "| extend() | Add the elements of a list (or any iterable), to the end of the current list | \n",
    "| index() | Returns the index of the first element with the specified value | \n",
    "| insert() | Adds an element at the specified position | \n",
    "| pop() | Removes the element at the specified position | \n",
    "| remove() | Removes the first item with the specified value | \n",
    "| reverse() | Reverses the order of the list | \n",
    "| sort() | Sorts the list | \n",
    "\n",
    "<br>\n",
    "\n",
    "List objects are implemented as arrays. They are optimized for fast fixed-length operations and incur O(n) memory movement costs for pop(0) and insert(0, v).\n",
    "operations which change both the size and position of the underlying data representation.\n",
    "\n",
    "For in depth information on arrays \n",
    "https://docs.python.org/3/tutorial/datastructures.html\n",
    "\n",
    "to implement arrays as a stack \n",
    "https://docs.python.org/3/library/collections.html#collections.deque\n",
    "\n"
   ]
  },
  {
   "cell_type": "code",
   "execution_count": 1,
   "metadata": {},
   "outputs": [
    {
     "name": "stdout",
     "output_type": "stream",
     "text": [
      "['x', 'a', 'alien', 'b', 'c']\n"
     ]
    }
   ],
   "source": [
    "\n",
    "strings = ['a','b','c','d']\n",
    "# 4*4 = 16 bytes of storage is used\n",
    "\n",
    "strings[2]\n",
    "\n",
    "#push  \n",
    "strings.append('e') # O(1)\n",
    "\n",
    "#pop  \n",
    "strings.pop()\n",
    "strings.pop() # O(1)\n",
    "\n",
    "#addfirstelement \n",
    "strings.insert(0,'x') # O(n)\n",
    "\n",
    "#splice\n",
    "strings.insert(2,'alien') # O(n)\n",
    "\n",
    "print(strings)\n"
   ]
  },
  {
   "attachments": {},
   "cell_type": "markdown",
   "metadata": {},
   "source": [
    "### <span style=\"color:mediumspringgreen\">Python Index Notation</span>\n",
    "\n",
    "| <span style=\"color:#FFB6C1\">syntax</span> | <span style=\"color:#FFB6C1\">description</span> |\n",
    "| --- | --- | \n",
    "| a[start:stop] | items start through stop-1 |\n",
    "|a[start:] | items start through the rest of the array |\n",
    "|a[:stop] | items from the beginning through stop-1 |\n",
    "|a[:] | a copy of the whole array |\n",
    "| a[start:stop:step] | start through not past stop, by step |\n",
    "| a[-1] | last item in the array |\n",
    "| a[-2:] | last two items in the array |\n",
    "| a[:-2] | everything except the last two items |\n",
    "| a[::-1] | all items in the array, reversed |\n",
    "| a[1::-1] | the first two items, reversed |\n",
    "| a[:-3:-1] | the last two items, reversed |\n",
    "| a[-3::-1] | everything except the last two items, reversed |\n",
    "\n",
    "The key point to remember is that the :stop value represents the first value that is not in the selected slice. So, the difference between stop and start is the number of elements selected (if step is 1, the default)\n",
    "\n",
    "The other feature is that start or stop may be a negative number, which means it counts from the end of the array instead of the beginning\n"
   ]
  },
  {
   "cell_type": "markdown",
   "metadata": {},
   "source": [
    "### <span style=\"color:mediumspringgreen\">Implementing An Array</span>"
   ]
  },
  {
   "cell_type": "code",
   "execution_count": 9,
   "metadata": {},
   "outputs": [
    {
     "name": "stdout",
     "output_type": "stream",
     "text": [
      "{'length': 3, 'data': {0: 6, 1: 2, 2: 9}}\n"
     ]
    }
   ],
   "source": [
    "\n",
    "class MyArray():\n",
    "    def __init__(self):\n",
    "        self.length = 0     # initialize the array's length to be zero\n",
    "        self.data = {}      # initialize the data of the array using an empty dictionary. The keys will correspond to the index and the values to the data\n",
    "\n",
    "    #The attributes of the array class are stored in a dictionary by default.\n",
    "    #When the __dict__ method is called on an instance of the class it returns the attributes of the class along with their values in a dictionary format\n",
    "    #Now, when the instance of the class is printed, it returns a class object with its location in memory. But we know when we print the array we get the elements of the array as output\n",
    "    #When we print the instance of the class, the built-in __str__ method is called. So we can modify the __str__ method inside the class to suit our needs.\n",
    "    def __str__(self):\n",
    "        return str(self.__dict__)   # This will print the attributes of the array class(length and data) in string format when print(array_instance) is executed\n",
    "\n",
    "\n",
    "    def get(self, index):\n",
    "        return self.data[index]     # This method takes in the index of the element as a parameter and returns the corresponding element in O(1) time.\n",
    "\n",
    "\n",
    "    def push(self, item):\n",
    "        self.length += 1\n",
    "        self.data[self.length - 1] = item   # Adds the item provided to the end of the array\n",
    "\n",
    "    \n",
    "    def pop(self):\n",
    "        last_item = self.data[self.length -1]   # Collects the last element\n",
    "        del self.data[self.length -1]           # Deletes the last element from the array\n",
    "        self.length -= 1                        # Decrements the length attribute of the array by 1\n",
    "        return last_item                        # Returns the popped element. O(1) time\n",
    "    \n",
    "\n",
    "    def insert(self, index, item):\n",
    "        self.length += 1\n",
    "        for i in range(self.length -1, index, -1):\n",
    "            self.data[i] = self.data[i - 1]     # Shifts every element from the index to the end by one place towards right. Thus making space at the specified index\n",
    "        self.data[index] = item                 # Adds the element at the given index. O(n) operation\n",
    "\n",
    "    \n",
    "    def delete(self,index):\n",
    "        for i in range(index, self.length-1):\n",
    "            self.data[i] = self.data[i+1]       # Shifts elements from the given index to the end by one place towards left\n",
    "        del self.data[self.length - 1]          # The last element which remains two times in the array is deleted\n",
    "        self.length -= 1                        # The lenght is decremented by 1. O(n) operation\n",
    "\n",
    "    \n",
    "arr = MyArray()\n",
    "arr.push(6)\n",
    "#{'length': 1, 'data': {0: 6}}\n",
    "\n",
    "arr.push(2)\n",
    "#{'length': 2, 'data': {0: 6, 1: 2}}\n",
    "\n",
    "arr.push(9)\n",
    "#{'length': 3, 'data': {0: 6, 1: 2, 2: 9}}\n",
    "\n",
    "print(arr)"
   ]
  },
  {
   "cell_type": "code",
   "execution_count": 10,
   "metadata": {},
   "outputs": [
    {
     "name": "stdout",
     "output_type": "stream",
     "text": [
      "{'length': 6, 'data': {0: 6, 1: 2, 2: 45, 3: 10, 4: 12, 5: 67}}\n"
     ]
    }
   ],
   "source": [
    "arr.pop()\n",
    "#{'length': 2, 'data': {0: 6, 1: 2}}\n",
    "\n",
    "arr.push(45)\n",
    "arr.push(12)\n",
    "arr.push(67)\n",
    "#{'length': 5, 'data': {0: 6, 1: 2, 2: 45, 3: 12, 4: 67}}\n",
    "\n",
    "arr.insert(3,10)\n",
    "#{'length': 6, 'data': {0: 6, 1: 2, 2: 45, 3: 10, 4: 12, 5: 67}}\n",
    "\n",
    "print(arr)"
   ]
  },
  {
   "cell_type": "code",
   "execution_count": 13,
   "metadata": {},
   "outputs": [
    {
     "name": "stdout",
     "output_type": "stream",
     "text": [
      "{'length': 4, 'data': {0: 6, 1: 2, 2: 45, 3: 10}}\n",
      "2\n"
     ]
    }
   ],
   "source": [
    "arr.delete(4)\n",
    "#{'length': 5, 'data': {0: 6, 1: 2, 2: 45, 3: 10, 4: 67}}\n",
    "\n",
    "print(arr)\n",
    "print(arr.get(1))"
   ]
  },
  {
   "cell_type": "markdown",
   "metadata": {},
   "source": [
    "### <span style=\"color:mediumspringgreen\">Exercise: Reverse a String</span>\n",
    "\n",
    "A string is given. We have to print the reversed string.  \n",
    "\n",
    "For example:  \n",
    "The string is: \"Hi how are you?\"  \n",
    "The output should be: \"?ouy era woh iH\"\n"
   ]
  },
  {
   "cell_type": "code",
   "execution_count": 3,
   "metadata": {},
   "outputs": [
    {
     "name": "stdout",
     "output_type": "stream",
     "text": [
      "ajeht ma I\n"
     ]
    }
   ],
   "source": [
    "#The first solution that comes to mind is we can create a new array and append the characters of the original array,\n",
    "#one by one from the end to the beginning.\n",
    "def reverse(stri):\n",
    "  mylist=[]\n",
    "  for i in range(len(stri)-1,-1,-1):\n",
    "    mylist.append(stri[i])\n",
    "  return ''.join(mylist)\n",
    "\n",
    "x=reverse('I am theja')\n",
    "print(x)  \n"
   ]
  },
  {
   "cell_type": "code",
   "execution_count": 52,
   "metadata": {
    "vscode": {
     "languageId": "javascript"
    }
   },
   "outputs": [
    {
     "name": "stdout",
     "output_type": "stream",
     "text": [
      "!olleH\n",
      "!olleH\n",
      "!olleH\n"
     ]
    }
   ],
   "source": [
    "%%script node\n",
    "\n",
    "////////////////////////////////////////////////////////////////////////////////\n",
    "function reverse1(str) {\n",
    "    // check if input is more than 1 letter\n",
    "    if (!str || str.length < 2 ||  typeof str !== 'string') {\n",
    "        return 'hmm thats not good'\n",
    "    } \n",
    "    const backwards = []\n",
    "    const totalItems = str.length -1\n",
    "\n",
    "    for (let i = totalItems; i >= 0; i--) {\n",
    "        backwards.push(str[i])\n",
    "\n",
    "    }\n",
    "    return backwards.join('')\n",
    "}\n",
    "\n",
    "const value1 = reverse1('Hello!')\n",
    "console.log(value1)\n",
    "\n",
    "////////////////////////////////////////////////////////////////////////////////\n",
    "function reverse2(str) {\n",
    "    return str.split('').reverse().join('')\n",
    "}\n",
    "\n",
    "const value2 = reverse2('Hello!')\n",
    "console.log(value2)\n",
    "\n",
    "////////////////////////////////////////////////////////////////////////////////\n",
    "const reverse3 = str => [...str].reverse('').join('')\n",
    "\n",
    "const value3 = reverse3('Hello!')\n",
    "console.log(value3)\n"
   ]
  },
  {
   "attachments": {},
   "cell_type": "markdown",
   "metadata": {},
   "source": [
    "### <span style=\"color:mediumspringgreen\">Exercise: Merge Sorted Arrays</span>\n",
    "\n",
    "Given a function `mergeSortedArrays([0,3,4,31], [4,6,30])`  \n",
    "\n",
    "Return one array with the values sorted"
   ]
  },
  {
   "cell_type": "code",
   "execution_count": 51,
   "metadata": {
    "vscode": {
     "languageId": "javascript"
    }
   },
   "outputs": [
    {
     "name": "stdout",
     "output_type": "stream",
     "text": [
      "[ 0, 3, 4, 6, 30, 31 ]\n"
     ]
    }
   ],
   "source": [
    "%%script node\n",
    "\n",
    "\n",
    "function mergeSortedArrays(array1, array2) {\n",
    "    const mergedArray = []\n",
    "    let array1Item = array1[0]\n",
    "    let array2Item = array2[0]\n",
    "    let i = 1\n",
    "    let j = 1\n",
    "\n",
    "    if (array1.length === 0) return array2\n",
    "    if (array2.length === 0) return array1\n",
    "    \n",
    "    while (array1Item || array2Item) {\n",
    "        // console.log(array1Item, array2Item)\n",
    "        if (!array2Item || array1Item < array2Item) {\n",
    "            mergedArray.push(array1Item)\n",
    "            array1Item = array1[i]\n",
    "            i++\n",
    "        } else {\n",
    "            mergedArray.push(array2Item)\n",
    "            array2Item = array2[j]\n",
    "            j++\n",
    "        }\n",
    "    }\n",
    "    return mergedArray\n",
    "}\n",
    "\n",
    "const value = mergeSortedArrays([0,3,31], [4,6,30])\n",
    "console.log(value)\n"
   ]
  }
 ],
 "metadata": {
  "kernelspec": {
   "display_name": "Python 3.10.2 ('env': venv)",
   "language": "python",
   "name": "python3"
  },
  "language_info": {
   "codemirror_mode": {
    "name": "ipython",
    "version": 3
   },
   "file_extension": ".py",
   "mimetype": "text/x-python",
   "name": "python",
   "nbconvert_exporter": "python",
   "pygments_lexer": "ipython3",
   "version": "3.10.2 (tags/v3.10.2:a58ebcc, Jan 17 2022, 14:12:15) [MSC v.1929 64 bit (AMD64)]"
  },
  "orig_nbformat": 4,
  "vscode": {
   "interpreter": {
    "hash": "9dc53da256d0d9f2dcfc763a255c263410097193e94718651a58241b75321426"
   }
  }
 },
 "nbformat": 4,
 "nbformat_minor": 2
}
