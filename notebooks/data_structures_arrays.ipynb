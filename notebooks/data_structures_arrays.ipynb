{
 "cells": [
  {
   "cell_type": "markdown",
   "metadata": {},
   "source": [
    "## <span style=\"color:turquoise\">Data Structures: Arrays</span>\n",
    "\n",
    "---"
   ]
  },
  {
   "cell_type": "markdown",
   "metadata": {},
   "source": [
    "### <span style=\"color:mediumspringgreen\">Introduction</span>\n",
    "\n",
    "Arrays, or sometimes called lists, organize items sequentially (one after another in memory).\n",
    "\n",
    "\n",
    "| | | \n",
    "| --- | --- | \n",
    "| 0 | Juice |\n",
    "| 1 | Apple |\n",
    "| 2 | Cheese |\n",
    "| 3 | Kale |\n",
    "| 4 | Mango |\n",
    "| 5 | Grapes |\n",
    "\n",
    "Because they are stored in contiguous memory, they also have the smallest footprint of any data structure. So if all you need is to store some data and iterate over it, arrays are the best choice. Especially if you know the indicies of the items you are storing\n",
    "\n",
    "\n",
    "| function | Big O | \n",
    "| --- | --- | \n",
    "| lookup | O(1) | \n",
    "| push | O(1) | \n",
    "| insert | O(n) | \n",
    "| delete | O(n) | \n",
    "\n",
    "\n",
    "\n",
    "\n"
   ]
  },
  {
   "cell_type": "code",
   "execution_count": null,
   "metadata": {},
   "outputs": [],
   "source": []
  }
 ],
 "metadata": {
  "kernelspec": {
   "display_name": "Python 3.10.2 ('env': venv)",
   "language": "python",
   "name": "python3"
  },
  "language_info": {
   "name": "python",
   "version": "3.10.2"
  },
  "orig_nbformat": 4,
  "vscode": {
   "interpreter": {
    "hash": "9dc53da256d0d9f2dcfc763a255c263410097193e94718651a58241b75321426"
   }
  }
 },
 "nbformat": 4,
 "nbformat_minor": 2
}
