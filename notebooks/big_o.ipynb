{
 "cells": [
  {
   "cell_type": "markdown",
   "metadata": {},
   "source": [
    "## <span style=\"color:turquoise\">The Big O</span>\n",
    "\n",
    "---"
   ]
  },
  {
   "cell_type": "markdown",
   "metadata": {},
   "source": [
    "### <span style=\"color:mediumspringgreen\">O(n) - Linear</span>\n",
    "\n",
    "Number of operations increase as the number of elements increase"
   ]
  },
  {
   "cell_type": "code",
   "execution_count": null,
   "metadata": {},
   "outputs": [],
   "source": [
    "import time\n",
    "\n",
    "nemo = ['nemo']\n",
    "everyone = ['dory', 'bruce', 'marlin', 'nemo', 'gill', 'bloat', 'nigel', 'squirt', 'darla']\n",
    "large = ['nemo' for i in range(100000)]\n",
    "\n",
    "\n",
    "def find_nemo(array):\n",
    "    t0 = time.time()\n",
    "\n",
    "    for i in range(0,len(array)): # O(n)\n",
    "        if array[i] == 'nemo':\n",
    "            print(\"Found Nemo!!\")\n",
    "\n",
    "    t1 = time.time()\n",
    "    print(f'The search took {t1-t0} seconds.')\n",
    "\n",
    "\n",
    "# find_nemo(nemo)\n",
    "# find_nemo(everyone)\n",
    "find_nemo(large) # O(n)\n",
    "\n"
   ]
  },
  {
   "cell_type": "markdown",
   "metadata": {},
   "source": [
    "### <span style=\"color:mediumspringgreen\">O(1) - Constant</span>\n",
    "\n",
    "Number of operations stay constant as the number of elements increase"
   ]
  },
  {
   "cell_type": "code",
   "execution_count": null,
   "metadata": {},
   "outputs": [],
   "source": [
    "boxes = [0,1,2,3,4,5]\n",
    "\n",
    "def log_first_two_boxes(boxes):\n",
    "    print(boxes[0]) # O(1)\n",
    "    print(boxes[1]) # O(1)\n",
    "\n",
    "\n",
    "log_first_two_boxes(boxes) # O(2)\n"
   ]
  },
  {
   "cell_type": "markdown",
   "metadata": {},
   "source": [
    "### <span style=\"color:mediumspringgreen\">Challenge 1: What is the Big O Notation</span>"
   ]
  },
  {
   "cell_type": "code",
   "execution_count": null,
   "metadata": {},
   "outputs": [],
   "source": [
    "\n",
    "nemo = ['nemo']\n",
    "everyone = ['dory', 'bruce', 'marlin', 'nemo', 'gill', 'bloat', 'nigel', 'squirt', 'darla']\n",
    "large = ['nemo' for i in range(100000)]\n",
    "\n",
    "\n",
    "def another_function():\n",
    "    print('another function')\n",
    "\n",
    "\n",
    "def funchallenge(input):\n",
    "    temp = 10 # O(1)\n",
    "    a = 50 + 3 # O(1)\n",
    "\n",
    "    for i in range(len(input)): # O(n)\n",
    "        another_function() # O(n)\n",
    "        var = True # O(n)\n",
    "        a += 1 # O(n)\n",
    "    return a # O(1)\n",
    "\n",
    "\n",
    "funchallenge(nemo)\n",
    "funchallenge(everyone)\n",
    "funchallenge(large)\n"
   ]
  },
  {
   "cell_type": "markdown",
   "metadata": {},
   "source": [
    "### <span style=\"color:mediumspringgreen\">O(n^2) - Quadratic</span>\n",
    "\n",
    "Every element is compared to every element\n",
    "\n",
    "There are nested for loops in this function but there is only one variable array. So we don't need two variables for the Big-O"
   ]
  },
  {
   "cell_type": "code",
   "execution_count": null,
   "metadata": {},
   "outputs": [],
   "source": [
    "import time\n",
    "\n",
    "array = ['a','b','c','d','e']\n",
    "\n",
    "def log_all_pairs(array):\n",
    "\n",
    "    for i in range(len(array)): # O(n)\n",
    "        for j in range(len(array)): # O(n)\n",
    "            print(array[i], array[j]) # O(1)\n",
    "\n",
    "\n",
    "log_all_pairs(array) # O:(n^2)\n"
   ]
  },
  {
   "cell_type": "markdown",
   "metadata": {},
   "source": [
    "### <span style=\"color:mediumspringgreen\">Simplifying Big O</span>"
   ]
  },
  {
   "cell_type": "markdown",
   "metadata": {},
   "source": [
    "#### <span style=\"color:lightblue\">Rule 1: Worst Case</span>"
   ]
  },
  {
   "cell_type": "markdown",
   "metadata": {},
   "source": [
    "#### <span style=\"color:lightblue\">Rule 2: Remove Constants</span>\n",
    "\n",
    "O(1 + 1 + n + n*1 + n*1 + n*1 + n*1 + 1)= O(4n +3) = O(4(n+1))\n",
    "\n",
    "Any constant in the Big-O representation can be replaced by 1, as it doesn't really matter what constant it is\n",
    "Therefore, O(4(n+1)) becomes O(n+1)\n",
    "\n",
    "Similarly, any constant number added or subtracted to n or multiplied or divided by n can also be safely written as just n\n",
    "This is because the constant that operates upon n, doesn't depend on n, i.e., the input size\n",
    "Therefore, the funchallenge function can be said to be of O(n) or Linear Time Complexity."
   ]
  },
  {
   "cell_type": "markdown",
   "metadata": {},
   "source": [
    "#### <span style=\"color:lightblue\">Rule 3: Different Terms For Inputs</span>\n",
    "\n",
    "First loop is going to depend on how big the first input is, and the second loop is going to depend on how big the second input is.\n",
    "\n",
    "The below example would equate to: O(a + b)"
   ]
  },
  {
   "cell_type": "markdown",
   "metadata": {},
   "source": [
    "### <span style=\"color:mediumspringgreen\">O(a + b)</span>"
   ]
  },
  {
   "cell_type": "code",
   "execution_count": null,
   "metadata": {},
   "outputs": [],
   "source": [
    "\n",
    "def compress_boxes_twice(boxes, boxes2):\n",
    "    for box in boxes:\n",
    "        print(box)\n",
    "\n",
    "    for box2 in boxes2:\n",
    "        print(box2)\n"
   ]
  },
  {
   "cell_type": "markdown",
   "metadata": {},
   "source": [
    "#### <span style=\"color:lightblue\">Rule 4: Drop Non Dominants</span>\n",
    "\n",
    "Total time complexity of the print_numbers_then_pairs function\n",
    "\n",
    "O(1 + n + n*1 + 1 + n*n + n*n + n*n*1) = O(3n^2 + 2n + 2)\n",
    "\n",
    "Now, Big-O presents scalability of the cod, i.e., how the code will behave as the inputs grow larger and larger. Therefore if the expression contains terms of different degrees and the size of inputs is huge, the terms of the smaller degrees become negligible in comparison to those of the higher degrees\n",
    "\n",
    "Therefore, we can ignore the terms of the smaller degrees and only keep the highest degree term\n",
    "\n",
    "O(3n^2 + 2n + 2) = O(3n2)\n",
    "\n",
    "The constants can be safely ignored. Therefore:\n",
    "\n",
    "O(3n^2) = O(n^2)"
   ]
  },
  {
   "cell_type": "code",
   "execution_count": null,
   "metadata": {},
   "outputs": [],
   "source": [
    "\n",
    "new_array = [1,2,3,4,5]\n",
    "\n",
    "def print_numbers_then_pairs(array):\n",
    "    print(\"The numbers are : \") # O(1)\n",
    "    for i in range(len(array)): # O(n)\n",
    "        print(array[i]) # n*O(1)\n",
    "\n",
    "    print(\"The pairs are :\") # O(1)\n",
    "    for i in range(len(array)): # n*O(n)\n",
    "        for j in range(len(array)): # n*O(n)\n",
    "            print(array[i], array[j]) # n*n*O(1)\n",
    "\n",
    "\n",
    "print_numbers_then_pairs(new_array) # O(n + n^2) = O(n^2)\n"
   ]
  },
  {
   "cell_type": "markdown",
   "metadata": {},
   "source": [
    "### <span style=\"color:mediumspringgreen\">O(a * b)</span>\n",
    "\n",
    "\n",
    "Here there are two different variables array1 and array2. They have to be represented by 2 different variables in the Big-O representation as well. Let array1 correspond to m and array2 correspond to n\n",
    "\n",
    "Total time complexity of the pairs function:\n",
    "\n",
    "O(n*m + m*n + m*n*1) = O(3*m*n)\n",
    "\n",
    "The constants can be safely ignored. Therefore:\n",
    "\n",
    "O(m * n * 3) = O(m * n)"
   ]
  },
  {
   "cell_type": "code",
   "execution_count": null,
   "metadata": {},
   "outputs": [],
   "source": [
    "import time\n",
    "\n",
    "array1 = ['a','b','c','d','e']\n",
    "array2 = [1,2,3,4,5]\n",
    "\n",
    "def pairs(array1, array2):\n",
    "\n",
    "    for i in range(len(array1)): #n*O(m)\n",
    "        for j in range(len(array2)): #m*O(n)\n",
    "            print(array1[i],array2[j]) #m*n*O(1)\n",
    "\n",
    "\n",
    "pairs(array1,array2)\n"
   ]
  },
  {
   "cell_type": "markdown",
   "metadata": {},
   "source": [
    "### <span style=\"color:mediumspringgreen\">O(n!) - Factorial</span>\n",
    "\n",
    "Adding a loop for every element"
   ]
  },
  {
   "cell_type": "code",
   "execution_count": null,
   "metadata": {},
   "outputs": [],
   "source": [
    "# Heap's Algorithm\n",
    "\n",
    "data = [1, 2, 3]\n",
    "\n",
    "def heap_permutation(data, n):\n",
    "    if n == 1:\n",
    "        print(data)\n",
    "        return\n",
    "    \n",
    "    for i in range(n):\n",
    "        heap_permutation(data, n - 1)\n",
    "        if n % 2 == 0:\n",
    "            data[i], data[n-1] = data[n-1], data[i]\n",
    "        else:\n",
    "            data[0], data[n-1] = data[n-1], data[0]\n",
    "    \n",
    "\n",
    "heap_permutation(data, len(data))\n"
   ]
  },
  {
   "cell_type": "markdown",
   "metadata": {},
   "source": [
    "### <span style=\"color:mediumspringgreen\">3 Pillars of Programming</span>\n",
    "\n",
    "1. Readable\n",
    "2. Memory (Space Complexity)\n",
    "3. Speed (Time Complexity)\n"
   ]
  },
  {
   "cell_type": "markdown",
   "metadata": {},
   "source": [
    "### <span style=\"color:mediumspringgreen\">What Causes Space Complexity?</span>\n",
    "\n",
    "- Variables\n",
    "- Data Structures\n",
    "- Function Calls\n",
    "- Allocations"
   ]
  }
 ],
 "metadata": {
  "kernelspec": {
   "display_name": "Python 3.10.2 ('env': venv)",
   "language": "python",
   "name": "python3"
  },
  "language_info": {
   "codemirror_mode": {
    "name": "ipython",
    "version": 3
   },
   "file_extension": ".py",
   "mimetype": "text/x-python",
   "name": "python",
   "nbconvert_exporter": "python",
   "pygments_lexer": "ipython3",
   "version": "3.10.2 (tags/v3.10.2:a58ebcc, Jan 17 2022, 14:12:15) [MSC v.1929 64 bit (AMD64)]"
  },
  "orig_nbformat": 4,
  "vscode": {
   "interpreter": {
    "hash": "9dc53da256d0d9f2dcfc763a255c263410097193e94718651a58241b75321426"
   }
  }
 },
 "nbformat": 4,
 "nbformat_minor": 2
}
