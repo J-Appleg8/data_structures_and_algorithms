{
 "cells": [
  {
   "attachments": {},
   "cell_type": "markdown",
   "metadata": {},
   "source": [
    "## <span style=\"color:turquoise\">Data Structures: Hash Tables</span>\n",
    "\n",
    "---"
   ]
  },
  {
   "attachments": {},
   "cell_type": "markdown",
   "metadata": {},
   "source": [
    "%%html\n",
    "<style>\n",
    "  thead,\n",
    "  th {\n",
    "    border-bottom: 1.5pt solid;\n",
    "  }\n",
    "  th {\n",
    "    font-weight: 600;\n",
    "  }\n",
    "</style>\n",
    "\n",
    "### <span style=\"color:mediumspringgreen\">Introduction</span>\n",
    "\n",
    "Otherwise known as objects, dictionaries etc.. \n",
    "\n",
    "| <span style=\"color:#FFB6C1\">Function</span> | <span style=\"color:#FFB6C1\">Big O</span> | \n",
    "| --- | --- | \n",
    "| search | O(1) | \n",
    "| insert | O(1) | \n",
    "| lookup | O(1) | \n",
    "| delete | O(1) | "
   ]
  },
  {
   "cell_type": "code",
   "execution_count": 2,
   "metadata": {
    "vscode": {
     "languageId": "javascript"
    }
   },
   "outputs": [
    {
     "name": "stdout",
     "output_type": "stream",
     "text": [
      "{\n",
      "  age: 54,\n",
      "  magic: true,\n",
      "  scream: [Function: scream],\n",
      "  spell: 'abra kadabra'\n",
      "}\n",
      "ahhhhhh!\n",
      "undefined\n"
     ]
    }
   ],
   "source": [
    "%%script node\n",
    "\n",
    "let user = {\n",
    "    age: 54,\n",
    "    magic: true, \n",
    "    scream: function() {\n",
    "        console.log(\"ahhhhhh!\")\n",
    "    }\n",
    "}\n",
    "\n",
    "user.spell = \"abra kadabra\"\n",
    "\n",
    "console.log(user)\n",
    "console.log(user.scream())"
   ]
  },
  {
   "attachments": {},
   "cell_type": "markdown",
   "metadata": {},
   "source": [
    "### <span style=\"color:mediumspringgreen\">Hash Table</span>\n",
    "\n",
    "Because items are randomly stored in a hash table/object/dictionary, it is much less efficient to loop through an object vs an array.\n",
    "- For example:\n",
    "    - if the hash table is 50 items large VUT only has 3 key/value pairs in it\n",
    "    - you would still have to loop over all 50 entries in the hash table in order to return all items\n",
    "    - because there is no set order to how data is stored in a hash table (vs arrays where they are indexed one after another)"
   ]
  },
  {
   "cell_type": "code",
   "execution_count": 42,
   "metadata": {
    "vscode": {
     "languageId": "javascript"
    }
   },
   "outputs": [
    {
     "name": "stdout",
     "output_type": "stream",
     "text": [
      "---------- set() --------------------\n",
      "\n",
      "[\n",
      "  <1 empty item>,\n",
      "  [ [ 'oranges', 2 ] ],\n",
      "  <40 empty items>,\n",
      "  [ [ 'grapes', 10000 ] ],\n",
      "  <2 empty items>,\n",
      "  [ [ 'apples', 54 ] ],\n",
      "  <4 empty items>\n",
      "]\n",
      "\n",
      "---------- get() --------------------\n",
      "\n",
      "10000\n",
      "\n",
      "---------- keys() --------------------\n",
      "\n",
      "[ 'oranges', 'grapes', 'apples' ]\n"
     ]
    }
   ],
   "source": [
    "%%script node\n",
    "\n",
    "class HashTable {\n",
    "    constructor(size) {\n",
    "        this.data = new Array(size)\n",
    "    }\n",
    "    //////////////////////////////////////////////////\n",
    "    // _ means property that cant be accessed outside of this class\n",
    "    _hash(key) {\n",
    "        let hash = 0\n",
    "        for (let i = 0; i < key.length; i++) {\n",
    "            hash = (hash + key.charCodeAt(i) * 1) % this.data.length\n",
    "        }\n",
    "        return hash\n",
    "    }\n",
    "    //////////////////////////////////////////////////\n",
    "    set(key,value) {\n",
    "        let address = this._hash(key)\n",
    "        if (!this.data[address]) {\n",
    "            this.data[address] = [];\n",
    "        } \n",
    "        this.data[address].push([key, value])\n",
    "        return this.data\n",
    "    }\n",
    "    //////////////////////////////////////////////////\n",
    "    get(key) {\n",
    "        let address = this._hash(key)\n",
    "        const currentBucket = this.data[address]\n",
    "        if (currentBucket) {\n",
    "            for (let i = 0; i < currentBucket.length ;i++) {\n",
    "                if (currentBucket[i][0] === key) {\n",
    "                    return currentBucket[i][1]\n",
    "                }\n",
    "            }\n",
    "        }\n",
    "    }\n",
    "    //////////////////////////////////////////////////\n",
    "    keys() {\n",
    "        const keysArray = []\n",
    "        for (let i = 0; i < this.data.length; i++) {\n",
    "            if (this.data[i]) {\n",
    "                keysArray.push(this.data[i][0][0])\n",
    "            }\n",
    "        }\n",
    "        return keysArray\n",
    "    }\n",
    "}\n",
    "\n",
    "//////////////////////////////////////////////////////////////////////////////////////////////////////////////////////////////////////////////////////\n",
    "// Returns\n",
    "console.log('---------- set() --------------------')\n",
    "console.log('')\n",
    "\n",
    "\n",
    "const myHashTable = new HashTable(50)\n",
    "const grapes = myHashTable.set('grapes', 10000)\n",
    "const apples = myHashTable.set('apples', 54)\n",
    "const oranges = myHashTable.set('oranges', 2)\n",
    "console.log(myHashTable.data)\n",
    "\n",
    "\n",
    "console.log('')\n",
    "console.log('---------- get() --------------------')\n",
    "console.log('')\n",
    "\n",
    "\n",
    "const getGrapes = myHashTable.get('grapes')\n",
    "console.log(getGrapes)\n",
    "\n",
    "\n",
    "console.log('')\n",
    "console.log('---------- keys() --------------------')\n",
    "console.log('')\n",
    "\n",
    "\n",
    "const myKeys = myHashTable.keys()\n",
    "console.log(myKeys)\n",
    "\n"
   ]
  },
  {
   "attachments": {},
   "cell_type": "markdown",
   "metadata": {},
   "source": [
    "%%html\n",
    "<style>\n",
    "  thead,\n",
    "  th {\n",
    "    border-bottom: 1.5pt solid;\n",
    "  }\n",
    "  th {\n",
    "    font-weight: 600;\n",
    "  }\n",
    "</style>\n",
    "\n",
    "### <span style=\"color:mediumspringgreen\">Hash Tables vs. Arrays</span>\n",
    "\n",
    "Comparing differences between arrays and hash tables\n",
    "\n",
    "#### <span style=\"color:turquoise\">Hash Table Functions:</span>\n",
    "\n",
    "Hash tables place new items in random locations/unordered\n",
    "\n",
    "Hash tables are great for:\n",
    "- Quick access to certain values\n",
    "- Inserting new items quickly\n",
    "- Flexible Keys\n",
    "\n",
    "Hash table limitations are:\n",
    "- Unordered\n",
    "- Slow key iteration\n",
    "\n",
    "| <span style=\"color:#FFB6C1\">Function</span> | <span style=\"color:#FFB6C1\">Big O</span> | \n",
    "| --- | --- | \n",
    "| search | O(1) | \n",
    "| insert | O(1) | \n",
    "| lookup | O(1) | \n",
    "| delete | O(1) | \n",
    "\n",
    "#### <span style=\"color:turquoise\">Array Functions:</span>\n",
    "\n",
    "Arrays place items one after another in order\n",
    "\n",
    "Arrays are great for:\n",
    "- Quickly looking up value for a given index/key\n",
    "\n",
    "| <span style=\"color:#FFB6C1\">Function</span> | <span style=\"color:#FFB6C1\">Big O</span> | \n",
    "| --- | --- | \n",
    "| search | O(n) | \n",
    "| lookup | O(1) | \n",
    "| push | O(1) | \n",
    "| insert | O(n) | \n",
    "| delete | O(1) | \n"
   ]
  },
  {
   "attachments": {},
   "cell_type": "markdown",
   "metadata": {},
   "source": [
    "### <span style=\"color:mediumspringgreen\">Exercise: First Recurring Character</span>\n",
    "\n",
    "Given an array, return the first recurring character\n",
    "\n",
    "Example:\n",
    "```js\n",
    "let array = [2,5,1,2,3,5,1,2,4]\n",
    "// returns: 2\n",
    "\n",
    "let array = [2,1,1,2,3,5,1,2,4]\n",
    "// returns: 1\n",
    "\n",
    "let array = [2,3,4,5]\n",
    "// returns: undefined\n",
    "```"
   ]
  },
  {
   "cell_type": "code",
   "execution_count": 99,
   "metadata": {
    "vscode": {
     "languageId": "javascript"
    }
   },
   "outputs": [
    {
     "name": "stdout",
     "output_type": "stream",
     "text": [
      "2\n",
      "2\n",
      "undefined\n",
      "1\n"
     ]
    }
   ],
   "source": [
    "%%script node\n",
    "\n",
    "////////////////////////////////////////////////////////////////////////////////////////////////////////////////////////\n",
    "// First version\n",
    "function firstRecurringCharacterNested(array) {\n",
    "    for (let i = 0; i < array.length; i++) {        \n",
    "        for (let j = i + 1; j < array.length; j++) {\n",
    "            if (array[i] === array[j]) return array[i]\n",
    "    \n",
    "        }\n",
    "    }\n",
    "}\n",
    "\n",
    "const exampeArray1 = [2,5,1,2,3,5,1,2,4]\n",
    "const val1 = firstRecurringCharacterNested(exampeArray1)\n",
    "console.log(val1)\n",
    "\n",
    "const exampeArray2 = [2,3,4,5]\n",
    "const val2 = firstRecurringCharacterNested(exampeArray2)\n",
    "console.log(val2)\n",
    "\n",
    "const bonusArray1 = [1,3,2,7,3,1]\n",
    "const bonusVal1 = firstRecurringCharacterNested(bonusArray1)\n",
    "console.log(bonusVal1)\n"
   ]
  },
  {
   "cell_type": "code",
   "execution_count": 122,
   "metadata": {
    "vscode": {
     "languageId": "javascript"
    }
   },
   "outputs": [
    {
     "name": "stdout",
     "output_type": "stream",
     "text": [
      "2\n",
      "1\n",
      "undefined\n",
      "3\n"
     ]
    }
   ],
   "source": [
    "%%script node\n",
    "\n",
    "////////////////////////////////////////////////////////////////////////////////////////////////////////////////////////\n",
    "// Second version\n",
    "function firstRecurringCharacter(array) {\n",
    "    const map = {}\n",
    "\n",
    "    for (let i = 0; i < array.length; i++) {\n",
    "        if (map[array[i]] !== undefined) return array[i]\n",
    "        else map[array[i]] = i\n",
    "    }\n",
    "}\n",
    "\n",
    "const exampeArray1 = [2,5,1,2,3,5,1,2,4]\n",
    "const val1 = firstRecurringCharacter(exampeArray1)\n",
    "console.log(val1)\n",
    "\n",
    "const exampeArray2 = [2,3,4,5]\n",
    "const val2 = firstRecurringCharacter(exampeArray2)\n",
    "console.log(val2)\n",
    "\n",
    "const bonusArray1 = [1,3,2,7,3,1]\n",
    "const bonusVal1 = firstRecurringCharacter(bonusArray1)\n",
    "console.log(bonusVal1)\n"
   ]
  },
  {
   "cell_type": "code",
   "execution_count": 102,
   "metadata": {
    "vscode": {
     "languageId": "javascript"
    }
   },
   "outputs": [
    {
     "name": "stdout",
     "output_type": "stream",
     "text": [
      "2\n",
      "1\n",
      "undefined\n",
      "3\n"
     ]
    }
   ],
   "source": [
    "%%script node\n",
    "\n",
    "////////////////////////////////////////////////////////////////////////////////////////////////////////////////////////\n",
    "// My version - includes() works as a loop inside of a loop - would end up being O(n^2)\n",
    "function firstRecurringCharacterBonus(array) {\n",
    "    const tempArray = [] // O(n) memory\n",
    "\n",
    "    for (let i = 0; i < array.length; i++) {\n",
    "        if (array) {\n",
    "            if (tempArray.includes(array[i])) return array[i]\n",
    "            else tempArray.push(array[i])\n",
    "        }\n",
    "    }\n",
    "}\n",
    "\n",
    "const exampeArray1 = [2,5,1,2,3,5,1,2,4]\n",
    "const val1 = firstRecurringCharacterBonus(exampeArray1)\n",
    "console.log(val1)\n",
    "\n",
    "const exampeArray2 = [2,3,4,5]\n",
    "const val2 = firstRecurringCharacterBonus(exampeArray2)\n",
    "console.log(val2)\n",
    "\n",
    "const bonusArray1 = [1,3,2,7,3,1]\n",
    "const bonusVal1 = firstRecurringCharacterBonus(bonusArray1)\n",
    "console.log(bonusVal1)\n"
   ]
  },
  {
   "cell_type": "code",
   "execution_count": 124,
   "metadata": {
    "vscode": {
     "languageId": "javascript"
    }
   },
   "outputs": [
    {
     "name": "stdout",
     "output_type": "stream",
     "text": [
      "2\n",
      "undefined\n",
      "3\n"
     ]
    }
   ],
   "source": [
    "%%script node\n",
    "\n",
    "////////////////////////////////////////////////////////////////////////////////////////////////////////////////////////\n",
    "// Map() version\n",
    "function firstRecurringCharacterMap(input) {\n",
    "    let myMap = new Map();\n",
    "    for (let i = 0; i < input.length; i++) {\n",
    "        if (myMap.has(input[i])) return input[i];\n",
    "        else myMap.set(input[i], i);\n",
    "    }\n",
    "    return undefined;\n",
    "}\n",
    "\n",
    "const exampeArray1 = [2,5,1,2,3,5,1,2,4]\n",
    "const val1 = firstRecurringCharacterMap(exampeArray1)\n",
    "console.log(val1)\n",
    "\n",
    "const exampeArray2 = [2,3,4,5]\n",
    "const val2 = firstRecurringCharacterMap(exampeArray2)\n",
    "console.log(val2)\n",
    "\n",
    "const bonusArray1 = [1,3,2,7,3,1]\n",
    "const bonusVal1 = firstRecurringCharacterMap(bonusArray1)\n",
    "console.log(bonusVal1)\n"
   ]
  }
 ],
 "metadata": {
  "kernelspec": {
   "display_name": "env",
   "language": "python",
   "name": "python3"
  },
  "language_info": {
   "codemirror_mode": {
    "name": "ipython",
    "version": 3
   },
   "file_extension": ".py",
   "mimetype": "text/x-python",
   "name": "python",
   "nbconvert_exporter": "python",
   "pygments_lexer": "ipython3",
   "version": "3.10.2 (tags/v3.10.2:a58ebcc, Jan 17 2022, 14:12:15) [MSC v.1929 64 bit (AMD64)]"
  },
  "orig_nbformat": 4,
  "vscode": {
   "interpreter": {
    "hash": "9dc53da256d0d9f2dcfc763a255c263410097193e94718651a58241b75321426"
   }
  }
 },
 "nbformat": 4,
 "nbformat_minor": 2
}
